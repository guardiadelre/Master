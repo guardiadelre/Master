{
 "cells": [
  {
   "cell_type": "markdown",
   "id": "5d0e956a-5e57-4556-8061-a6e1e38bc6dc",
   "metadata": {},
   "source": [
    "# Data Science Tools and Ecosystem\n",
    "\n"
   ]
  },
  {
   "cell_type": "markdown",
   "id": "ba48a2ba-ae0d-488c-91bc-56975fdac6e4",
   "metadata": {},
   "source": [
    "In this notebook, Data Science Tools and Ecosystem are summarized."
   ]
  },
  {
   "cell_type": "markdown",
   "id": "620c4c58-515b-474d-9bc8-4397aaf1541f",
   "metadata": {},
   "source": [
    "Some of the popular languages that Data Scientists use are:\n",
    "1. R\n",
    "2. Python\n",
    "3. Julia\n",
    "4. SQL"
   ]
  },
  {
   "cell_type": "markdown",
   "id": "e09aa95c-4baf-41b5-a095-a6a1c794a3d7",
   "metadata": {},
   "source": [
    "Some of the commonly used libraries used by Data Scientists include:\n",
    "1. NumPy \n",
    "2. Pandas\n",
    "3. Scikit-learn"
   ]
  },
  {
   "cell_type": "markdown",
   "id": "9c2060a7-3cbd-42e0-bd85-7e5ec82a22ad",
   "metadata": {},
   "source": [
    "|Data Science Tools|\n",
    "|------|\n",
    "|JupyterLab|\n",
    "|Jupyter Notebook|\n",
    "|RStudio|\n",
    "|Spyder|\n",
    "|Google Colab|\n",
    "|Visual Studio Code|"
   ]
  },
  {
   "cell_type": "markdown",
   "id": "7a91c411-11d5-4bfa-9c24-cc0461460057",
   "metadata": {},
   "source": [
    "### Below are a few examples of evaluating arithmetic expressions in Python.\n",
    "\n",
    "\n",
    "\n"
   ]
  },
  {
   "cell_type": "code",
   "execution_count": 3,
   "id": "74dd0df8-7e61-4a68-ba2f-26bce1fb80a6",
   "metadata": {},
   "outputs": [
    {
     "data": {
      "text/plain": [
       "17"
      ]
     },
     "execution_count": 3,
     "metadata": {},
     "output_type": "execute_result"
    }
   ],
   "source": [
    "#This a simple arithmetic expression to mutiply then add integers\n",
    "(3*4)+5"
   ]
  },
  {
   "cell_type": "code",
   "execution_count": 5,
   "id": "356e59f2-f09a-4e08-a952-a06bde73707f",
   "metadata": {
    "scrolled": true
   },
   "outputs": [
    {
     "data": {
      "text/plain": [
       "3.3333333333333335"
      ]
     },
     "execution_count": 5,
     "metadata": {},
     "output_type": "execute_result"
    }
   ],
   "source": [
    "# This will convert 200 minutes to hours by dividing by 60\n",
    "200/60"
   ]
  },
  {
   "cell_type": "markdown",
   "id": "e716f3ef-83cc-446b-bae8-1976355fc0ea",
   "metadata": {},
   "source": [
    "**Objectives:**\n",
    "\n",
    "- List popular languages for Data Science\n",
    "- List commonly used libraries for DS\n",
    "- List commonly used Tools for DS\n",
    "- Display some basic algebra using Python language"
   ]
  },
  {
   "cell_type": "markdown",
   "id": "430b4a2a-6f41-489d-9e9f-3a9c875b6d2e",
   "metadata": {},
   "source": [
    "## Author\n",
    "Samuele Castelletti"
   ]
  },
  {
   "cell_type": "code",
   "execution_count": null,
   "id": "872c475b-deed-47cc-8b11-1a6f9be05e4a",
   "metadata": {},
   "outputs": [],
   "source": []
  }
 ],
 "metadata": {
  "kernelspec": {
   "display_name": "Python 3 (ipykernel)",
   "language": "python",
   "name": "python3"
  },
  "language_info": {
   "codemirror_mode": {
    "name": "ipython",
    "version": 3
   },
   "file_extension": ".py",
   "mimetype": "text/x-python",
   "name": "python",
   "nbconvert_exporter": "python",
   "pygments_lexer": "ipython3",
   "version": "3.12.9"
  }
 },
 "nbformat": 4,
 "nbformat_minor": 5
}
